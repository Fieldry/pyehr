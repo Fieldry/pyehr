{
 "cells": [
  {
   "attachments": {},
   "cell_type": "markdown",
   "metadata": {},
   "source": [
    "# Plot Scripts"
   ]
  },
  {
   "cell_type": "code",
   "execution_count": null,
   "metadata": {},
   "outputs": [],
   "source": [
    "import numpy as np\n",
    "import pandas as pd\n",
    "\n",
    "# matplotlib\n",
    "import matplotlib.pyplot as plt\n",
    "import matplotlib.lines as mlines\n",
    "import matplotlib.transforms as mtransfor\n",
    "from matplotlib.ticker import FuncFormatter\n",
    "import seaborn as sns\n",
    "\n",
    "plt.style.use('default')\n",
    "plt.rcParams['axes.facecolor']='white'\n",
    "plt.rcParams.update({\"axes.grid\" : True, \"grid.color\": \"gainsboro\"})\n",
    "plt.rcParams['legend.frameon']=True\n",
    "plt.rcParams['legend.facecolor']='white'\n",
    "plt.rcParams['legend.edgecolor']='grey'\n",
    "plt.rcParams[\"axes.edgecolor\"] = \"black\"\n",
    "plt.rcParams[\"axes.linewidth\"]  = 1"
   ]
  },
  {
   "attachments": {},
   "cell_type": "markdown",
   "metadata": {},
   "source": [
    "## Draw OSMAE / ES scores on different thresholds"
   ]
  },
  {
   "cell_type": "code",
   "execution_count": null,
   "metadata": {},
   "outputs": [],
   "source": [
    "from datasets.loader.load_los_info import get_los_info\n",
    "from datasets.loader.datamodule import EhrDataModule\n",
    "from pipelines import DlPipeline\n",
    "import lightning as L"
   ]
  },
  {
   "cell_type": "code",
   "execution_count": null,
   "metadata": {},
   "outputs": [],
   "source": [
    "# init config (CDSL dataset, TCN multitask model, fold-0, seed-0)\n",
    "config = {\n",
    "  'model': 'TCN',\n",
    "  'dataset': 'cdsl',\n",
    "  'task': 'multitask',\n",
    "  'epochs': 100,\n",
    "  'patience': 10,\n",
    "  'batch_size': 128,\n",
    "  'learning_rate': 0.001,\n",
    "  'main_metric': 'auprc',\n",
    "  'demo_dim': 2,\n",
    "  'lab_dim': 97,\n",
    "  'hidden_dim': 128,\n",
    "  'output_dim': 1,\n",
    "  }\n",
    "\n",
    "thresholds = np.arange(0,10,0.1)[1:].tolist()\n",
    "\n",
    "# load CDSL fold-0 data\n",
    "los_config = get_los_info(f'datasets/{config[\"dataset\"]}/processed/fold_0')\n",
    "los_config['threshold'] = thresholds\n",
    "config.update({\"los_info\": los_config})\n",
    "dm = EhrDataModule(f'datasets/{config[\"dataset\"]}/processed/fold_0', batch_size=config[\"batch_size\"])\n",
    "\n",
    "# load TCN multitask model\n",
    "checkpoint_path = f'logs/test/{config[\"dataset\"]}/{config[\"task\"]}/{config[\"model\"]}-fold0-seed0/checkpoints/best.ckpt'\n",
    "pipeline = DlPipeline(config)\n",
    "trainer = L.Trainer(accelerator=\"cpu\", max_epochs=1, logger=False, num_sanity_val_steps=0)\n",
    "trainer.test(pipeline, dm)\n",
    "\n",
    "# get scores\n",
    "perf = pipeline.test_performance"
   ]
  },
  {
   "cell_type": "code",
   "execution_count": null,
   "metadata": {},
   "outputs": [],
   "source": [
    "print(len(perf['osmae_list']), len(perf['es_list']))\n",
    "es = perf['es_list'][::4]\n",
    "osmae = perf['osmae_list'][::4]\n",
    "thres = thresholds[::4]\n",
    "print(len(es), len(osmae), len(thres))"
   ]
  },
  {
   "cell_type": "code",
   "execution_count": null,
   "metadata": {},
   "outputs": [],
   "source": [
    "# ES Score\n",
    "ax = sns.regplot(x=thres, y=es, marker=\"o\", color=\"g\", line_kws={\"color\": \"grey\", \"linestyle\": \"-\", \"linewidth\": \"1\"}, ci=99.9999)\n",
    "plt.xlabel('Threshold γ')\n",
    "plt.ylabel('ES Score')\n",
    "\n",
    "plt.savefig('logs/figures/es_trend.pdf', dpi=500, format=\"pdf\", bbox_inches=\"tight\")\n",
    "plt.show()"
   ]
  },
  {
   "cell_type": "code",
   "execution_count": null,
   "metadata": {},
   "outputs": [],
   "source": [
    "# OSMAE Score\n",
    "ax = sns.regplot(x=thres, y=osmae, marker=\"o\", color=\"dodgerblue\", line_kws={\"color\": \"grey\", \"linestyle\": \"-\", \"linewidth\": \"1\"}, ci=99.9999)\n",
    "plt.xlabel('Threshold γ')\n",
    "plt.ylabel('OSMAE Score')\n",
    "\n",
    "plt.savefig('logs/figures/osmae_trend.pdf', dpi=500, format=\"pdf\", bbox_inches=\"tight\")\n",
    "plt.show()"
   ]
  }
 ],
 "metadata": {
  "kernelspec": {
   "display_name": "ehr",
   "language": "python",
   "name": "python3"
  },
  "language_info": {
   "codemirror_mode": {
    "name": "ipython",
    "version": 3
   },
   "file_extension": ".py",
   "mimetype": "text/x-python",
   "name": "python",
   "nbconvert_exporter": "python",
   "pygments_lexer": "ipython3",
   "version": "3.9.16"
  },
  "orig_nbformat": 4
 },
 "nbformat": 4,
 "nbformat_minor": 2
}
