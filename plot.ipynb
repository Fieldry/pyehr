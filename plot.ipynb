{
 "cells": [
  {
   "attachments": {},
   "cell_type": "markdown",
   "metadata": {},
   "source": [
    "# Plot Scripts"
   ]
  },
  {
   "cell_type": "code",
   "execution_count": null,
   "metadata": {},
   "outputs": [],
   "source": [
    "import numpy as np\n",
    "import pandas as pd\n",
    "\n",
    "# matplotlib\n",
    "import matplotlib.pyplot as plt\n",
    "import matplotlib.lines as mlines\n",
    "import matplotlib.transforms as mtransfor\n",
    "from matplotlib.ticker import FuncFormatter\n",
    "import seaborn as sns\n",
    "\n",
    "plt.style.use('default')\n",
    "plt.rcParams['axes.facecolor']='white'\n",
    "plt.rcParams.update({\"axes.grid\" : True, \"grid.color\": \"gainsboro\"})\n",
    "plt.rcParams['legend.frameon']=True\n",
    "plt.rcParams['legend.facecolor']='white'\n",
    "plt.rcParams['legend.edgecolor']='grey'\n",
    "plt.rcParams[\"axes.edgecolor\"] = \"black\"\n",
    "plt.rcParams[\"axes.linewidth\"]  = 1"
   ]
  },
  {
   "attachments": {},
   "cell_type": "markdown",
   "metadata": {},
   "source": [
    "## Draw OSMAE / ES scores on different thresholds"
   ]
  },
  {
   "cell_type": "code",
   "execution_count": null,
   "metadata": {},
   "outputs": [],
   "source": [
    "from datasets.loader.load_los_info import get_los_info\n",
    "from datasets.loader.datamodule import EhrDataModule\n",
    "from pipelines import DlPipeline\n",
    "import lightning as L"
   ]
  },
  {
   "cell_type": "code",
   "execution_count": null,
   "metadata": {},
   "outputs": [],
   "source": [
    "# init config (CDSL dataset, TCN multitask model, fold-0, seed-0)\n",
    "config = {\n",
    "  'model': 'TCN',\n",
    "  'dataset': 'cdsl',\n",
    "  'task': 'multitask',\n",
    "  'epochs': 100,\n",
    "  'patience': 10,\n",
    "  'batch_size': 128,\n",
    "  'learning_rate': 0.001,\n",
    "  'main_metric': 'auprc',\n",
    "  'demo_dim': 2,\n",
    "  'lab_dim': 97,\n",
    "  'hidden_dim': 128,\n",
    "  'output_dim': 1,\n",
    "  }\n",
    "\n",
    "thresholds = np.arange(0,10,0.1)[1:].tolist()\n",
    "\n",
    "# load CDSL fold-0 data\n",
    "los_config = get_los_info(f'datasets/{config[\"dataset\"]}/processed/fold_0')\n",
    "los_config['threshold'] = thresholds\n",
    "config.update({\"los_info\": los_config})\n",
    "dm = EhrDataModule(f'datasets/{config[\"dataset\"]}/processed/fold_0', batch_size=config[\"batch_size\"])\n",
    "\n",
    "# load TCN multitask model\n",
    "checkpoint_path = f'logs/test/{config[\"dataset\"]}/{config[\"task\"]}/{config[\"model\"]}-fold0-seed0/checkpoints/best.ckpt'\n",
    "pipeline = DlPipeline(config)\n",
    "trainer = L.Trainer(accelerator=\"cpu\", max_epochs=1, logger=False, num_sanity_val_steps=0)\n",
    "trainer.test(pipeline, dm)\n",
    "\n",
    "# get scores\n",
    "perf = pipeline.test_performance"
   ]
  },
  {
   "cell_type": "code",
   "execution_count": null,
   "metadata": {},
   "outputs": [],
   "source": [
    "print(len(perf['osmae_list']), len(perf['es_list']))\n",
    "es = perf['es_list'][::4]\n",
    "osmae = perf['osmae_list'][::4]\n",
    "thres = thresholds[::4]\n",
    "print(len(es), len(osmae), len(thres))"
   ]
  },
  {
   "cell_type": "code",
   "execution_count": null,
   "metadata": {},
   "outputs": [],
   "source": [
    "# ES Score\n",
    "ax = sns.regplot(x=thres, y=es, marker=\"o\", color=\"g\", line_kws={\"color\": \"grey\", \"linestyle\": \"-\", \"linewidth\": \"1\"}, ci=99.9999)\n",
    "plt.xlabel('Threshold γ')\n",
    "plt.ylabel('ES Score')\n",
    "\n",
    "plt.savefig('logs/figures/es_trend.pdf', dpi=500, format=\"pdf\", bbox_inches=\"tight\")\n",
    "plt.show()"
   ]
  },
  {
   "cell_type": "code",
   "execution_count": null,
   "metadata": {},
   "outputs": [],
   "source": [
    "# OSMAE Score\n",
    "ax = sns.regplot(x=thres, y=osmae, marker=\"o\", color=\"dodgerblue\", line_kws={\"color\": \"grey\", \"linestyle\": \"-\", \"linewidth\": \"1\"}, ci=99.9999)\n",
    "plt.xlabel('Threshold γ')\n",
    "plt.ylabel('OSMAE Score')\n",
    "\n",
    "plt.savefig('logs/figures/osmae_trend.pdf', dpi=500, format=\"pdf\", bbox_inches=\"tight\")\n",
    "plt.show()"
   ]
  },
  {
   "attachments": {},
   "cell_type": "markdown",
   "metadata": {},
   "source": [
    "## Draw feature embedding\n",
    "\n",
    "compare multi-task and two-stage setting"
   ]
  },
  {
   "cell_type": "code",
   "execution_count": null,
   "metadata": {},
   "outputs": [],
   "source": [
    "import lightning as L\n",
    "import torch\n",
    "from sklearn.manifold import TSNE\n",
    "\n",
    "from datasets.loader.load_los_info import get_los_info\n",
    "from datasets.loader.datamodule import EhrDataModule\n",
    "from pipelines import DlPipeline"
   ]
  },
  {
   "attachments": {},
   "cell_type": "markdown",
   "metadata": {},
   "source": [
    "### CDSL dataset, TCN multitask model, fold-0, seed-0"
   ]
  },
  {
   "cell_type": "code",
   "execution_count": null,
   "metadata": {},
   "outputs": [],
   "source": [
    "# init config\n",
    "config = {\n",
    "  'model': 'TCN',\n",
    "  'dataset': 'cdsl',\n",
    "  'task': 'multitask',\n",
    "  'epochs': 100,\n",
    "  'patience': 10,\n",
    "  'batch_size': 81920,\n",
    "  'learning_rate': 0.001,\n",
    "  'main_metric': 'auprc',\n",
    "  'demo_dim': 2,\n",
    "  'lab_dim': 97,\n",
    "  'hidden_dim': 128,\n",
    "  'output_dim': 1,\n",
    "  }\n",
    "\n",
    "# load CDSL fold-0 data\n",
    "los_config = get_los_info(f'datasets/{config[\"dataset\"]}/processed/fold_0')\n",
    "config.update({\"los_info\": los_config})\n",
    "dm = EhrDataModule(f'datasets/{config[\"dataset\"]}/processed/fold_0', batch_size=config[\"batch_size\"])\n",
    "\n",
    "# load TCN multitask model\n",
    "checkpoint_path = f'logs/test/{config[\"dataset\"]}/{config[\"task\"]}/{config[\"model\"]}-fold0-seed0/checkpoints/best.ckpt'\n",
    "pipeline = DlPipeline(config)\n",
    "trainer = L.Trainer(accelerator=\"cpu\", max_epochs=1, logger=False, num_sanity_val_steps=0)\n",
    "trainer.test(pipeline, dm)\n",
    "\n",
    "# get scores\n",
    "embedding = pipeline.embedding"
   ]
  },
  {
   "cell_type": "code",
   "execution_count": null,
   "metadata": {},
   "outputs": [],
   "source": [
    "# fetch each patient's last visit's embedding\n",
    "lens = pipeline.test_outputs['lens']\n",
    "outcomes = []\n",
    "flattened_outcomes = pipeline.test_outputs['labels'][:,0]\n",
    "idx=0\n",
    "for i in range(len(lens)):\n",
    "    outcomes.append(flattened_outcomes[idx])\n",
    "    idx+=lens[i]\n",
    "\n",
    "# Initialize an empty list to store selected tensors\n",
    "selected_tensors = []\n",
    "# Iterate over ts_array\n",
    "for i in range(len(lens)):\n",
    "    l = lens[i]\n",
    "    selected_tensor = embedding[i, l - 1, :]\n",
    "    selected_tensors.append(selected_tensor)\n",
    "# Concatenate all selected tensors along the time step dimension (axis=1)\n",
    "patient_embeds = torch.stack(selected_tensors, dim=0)\n",
    "\n",
    "print(embedding.shape, len(lens), len(outcomes), sum(lens), type(lens), lens.shape)\n",
    "print(patient_embeds.shape)\n",
    "\n",
    "outcomes = np.expand_dims(np.array(outcomes), axis=1)\n"
   ]
  },
  {
   "cell_type": "code",
   "execution_count": null,
   "metadata": {},
   "outputs": [],
   "source": [
    "projected = TSNE(n_components=2, learning_rate='auto', init='random').fit_transform(patient_embeds)\n",
    "concatenated = np.concatenate([projected, outcomes], axis=1)\n",
    "\n",
    "df = pd.DataFrame(concatenated, columns = ['Component 1', 'Component 2', 'Outcome'])\n",
    "df['Outcome'].replace({1: 'Dead', 0: 'Alive'}, inplace=True)\n",
    "\n",
    "sns.scatterplot(data=df, x=\"Component 1\", y=\"Component 2\", hue=\"Outcome\", style=\"Outcome\", palette=[\"C2\", \"C3\"], alpha=0.5)\n",
    "plt.savefig(f'logs/figures/tcn_multitask_embedding_tsne.pdf', dpi=500, format=\"pdf\", bbox_inches=\"tight\")"
   ]
  }
 ],
 "metadata": {
  "kernelspec": {
   "display_name": "ehr",
   "language": "python",
   "name": "python3"
  },
  "language_info": {
   "codemirror_mode": {
    "name": "ipython",
    "version": 3
   },
   "file_extension": ".py",
   "mimetype": "text/x-python",
   "name": "python",
   "nbconvert_exporter": "python",
   "pygments_lexer": "ipython3",
   "version": "3.9.16"
  },
  "orig_nbformat": 4
 },
 "nbformat": 4,
 "nbformat_minor": 2
}
